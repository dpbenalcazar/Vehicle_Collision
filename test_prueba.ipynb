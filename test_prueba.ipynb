{
 "cells": [
  {
   "cell_type": "code",
   "execution_count": 1,
   "id": "7214a254",
   "metadata": {
    "scrolled": true
   },
   "outputs": [
    {
     "name": "stderr",
     "output_type": "stream",
     "text": [
      "/home/pame/anaconda3/envs/tf1/lib/python3.7/site-packages/tensorflow/python/framework/dtypes.py:516: FutureWarning: Passing (type, 1) or '1type' as a synonym of type is deprecated; in a future version of numpy, it will be understood as (type, (1,)) / '(1,)type'.\n",
      "  _np_qint8 = np.dtype([(\"qint8\", np.int8, 1)])\n",
      "/home/pame/anaconda3/envs/tf1/lib/python3.7/site-packages/tensorflow/python/framework/dtypes.py:517: FutureWarning: Passing (type, 1) or '1type' as a synonym of type is deprecated; in a future version of numpy, it will be understood as (type, (1,)) / '(1,)type'.\n",
      "  _np_quint8 = np.dtype([(\"quint8\", np.uint8, 1)])\n",
      "/home/pame/anaconda3/envs/tf1/lib/python3.7/site-packages/tensorflow/python/framework/dtypes.py:518: FutureWarning: Passing (type, 1) or '1type' as a synonym of type is deprecated; in a future version of numpy, it will be understood as (type, (1,)) / '(1,)type'.\n",
      "  _np_qint16 = np.dtype([(\"qint16\", np.int16, 1)])\n",
      "/home/pame/anaconda3/envs/tf1/lib/python3.7/site-packages/tensorflow/python/framework/dtypes.py:519: FutureWarning: Passing (type, 1) or '1type' as a synonym of type is deprecated; in a future version of numpy, it will be understood as (type, (1,)) / '(1,)type'.\n",
      "  _np_quint16 = np.dtype([(\"quint16\", np.uint16, 1)])\n",
      "/home/pame/anaconda3/envs/tf1/lib/python3.7/site-packages/tensorflow/python/framework/dtypes.py:520: FutureWarning: Passing (type, 1) or '1type' as a synonym of type is deprecated; in a future version of numpy, it will be understood as (type, (1,)) / '(1,)type'.\n",
      "  _np_qint32 = np.dtype([(\"qint32\", np.int32, 1)])\n",
      "/home/pame/anaconda3/envs/tf1/lib/python3.7/site-packages/tensorflow/python/framework/dtypes.py:525: FutureWarning: Passing (type, 1) or '1type' as a synonym of type is deprecated; in a future version of numpy, it will be understood as (type, (1,)) / '(1,)type'.\n",
      "  np_resource = np.dtype([(\"resource\", np.ubyte, 1)])\n",
      "/home/pame/anaconda3/envs/tf1/lib/python3.7/site-packages/tensorboard/compat/tensorflow_stub/dtypes.py:541: FutureWarning: Passing (type, 1) or '1type' as a synonym of type is deprecated; in a future version of numpy, it will be understood as (type, (1,)) / '(1,)type'.\n",
      "  _np_qint8 = np.dtype([(\"qint8\", np.int8, 1)])\n",
      "/home/pame/anaconda3/envs/tf1/lib/python3.7/site-packages/tensorboard/compat/tensorflow_stub/dtypes.py:542: FutureWarning: Passing (type, 1) or '1type' as a synonym of type is deprecated; in a future version of numpy, it will be understood as (type, (1,)) / '(1,)type'.\n",
      "  _np_quint8 = np.dtype([(\"quint8\", np.uint8, 1)])\n",
      "/home/pame/anaconda3/envs/tf1/lib/python3.7/site-packages/tensorboard/compat/tensorflow_stub/dtypes.py:543: FutureWarning: Passing (type, 1) or '1type' as a synonym of type is deprecated; in a future version of numpy, it will be understood as (type, (1,)) / '(1,)type'.\n",
      "  _np_qint16 = np.dtype([(\"qint16\", np.int16, 1)])\n",
      "/home/pame/anaconda3/envs/tf1/lib/python3.7/site-packages/tensorboard/compat/tensorflow_stub/dtypes.py:544: FutureWarning: Passing (type, 1) or '1type' as a synonym of type is deprecated; in a future version of numpy, it will be understood as (type, (1,)) / '(1,)type'.\n",
      "  _np_quint16 = np.dtype([(\"quint16\", np.uint16, 1)])\n",
      "/home/pame/anaconda3/envs/tf1/lib/python3.7/site-packages/tensorboard/compat/tensorflow_stub/dtypes.py:545: FutureWarning: Passing (type, 1) or '1type' as a synonym of type is deprecated; in a future version of numpy, it will be understood as (type, (1,)) / '(1,)type'.\n",
      "  _np_qint32 = np.dtype([(\"qint32\", np.int32, 1)])\n",
      "/home/pame/anaconda3/envs/tf1/lib/python3.7/site-packages/tensorboard/compat/tensorflow_stub/dtypes.py:550: FutureWarning: Passing (type, 1) or '1type' as a synonym of type is deprecated; in a future version of numpy, it will be understood as (type, (1,)) / '(1,)type'.\n",
      "  np_resource = np.dtype([(\"resource\", np.ubyte, 1)])\n"
     ]
    }
   ],
   "source": [
    "import os\n",
    "import tensorflow as tf\n",
    "import cv2\n",
    "import numpy as np\n",
    "import json\n",
    "import shutil\n",
    "from collections import deque\n",
    "from model_architecture import build_tools\n",
    "from utils.image_folder import make_dataset\n",
    "from PIL import Image\n",
    "from utils.utils import data_tools\n",
    "from utils.FPS import FPS\n",
    "from config import *\n",
    "from tqdm import tqdm\n",
    "\n",
    "from packaging import version\n",
    "from tensorflow import __version__ as tfver\n",
    "using_tf2 = version.parse(tfver) >= version.parse(\"2.0.0\")"
   ]
  },
  {
   "cell_type": "code",
   "execution_count": 2,
   "id": "9ac20194",
   "metadata": {},
   "outputs": [
    {
     "name": "stdout",
     "output_type": "stream",
     "text": [
      "\n",
      "\n",
      "--Memory Growth enabled--\n",
      "\n",
      "\n"
     ]
    }
   ],
   "source": [
    "# Allow memory growth\n",
    "physical_devices = tf.config.experimental.list_physical_devices('GPU')\n",
    "if len(physical_devices) > 0:\n",
    "    config = tf.config.experimental.set_memory_growth(physical_devices[0], True)\n",
    "    if not using_tf2:\n",
    "        session = tf.Session(config=config)\n",
    "    print('\\n'*2 + '--Memory Growth enabled--' + '\\n'*2)\n",
    "\n",
    "#Función para encontrar un path\n",
    "def get_folder(path):\n",
    "    folder = '/'\n",
    "    for x in path.split('/')[1:-1]:\n",
    "        folder = folder + x + '/'\n",
    "    return folder\n"
   ]
  },
  {
   "cell_type": "code",
   "execution_count": 3,
   "id": "367e5d46",
   "metadata": {},
   "outputs": [],
   "source": [
    "#Para que lea todas las imágenes del dataset completo:\n",
    "dataset_dir = '/home/pame/PROYECT1/Vehicle_Collision-master/files/TEST'\n",
    "output_dir = './files/test_set/'\n",
    "name = '{}_{}_{}_e{}_ns{}.npz'.format(model_name, data_type, vers, test_epoch, nsequences)\n",
    "output_file = os.path.join(output_dir, name)\n",
    "\n",
    "if not os.path.exists(output_dir):\n",
    "    os.makedirs(output_dir)"
   ]
  },
  {
   "cell_type": "code",
   "execution_count": 4,
   "id": "fd911963",
   "metadata": {},
   "outputs": [
    {
     "name": "stdout",
     "output_type": "stream",
     "text": [
      "WARNING:tensorflow:From /home/pame/anaconda3/envs/tf1/lib/python3.7/site-packages/tensorflow/python/ops/init_ops.py:1251: calling VarianceScaling.__init__ (from tensorflow.python.ops.init_ops) with dtype is deprecated and will be removed in a future version.\n",
      "Instructions for updating:\n",
      "Call initializer instance with the dtype argument instead of passing it to the constructor\n",
      "Model: \"model\"\n",
      "_________________________________________________________________\n",
      "Layer (type)                 Output Shape              Param #   \n",
      "=================================================================\n",
      "input_1 (InputLayer)         [(None, 8, 140, 210, 3)]  0         \n",
      "_________________________________________________________________\n",
      "time_distributed (TimeDistri (None, 8, 140, 210, 64)   1792      \n",
      "_________________________________________________________________\n",
      "time_distributed_1 (TimeDist (None, 8, 140, 210, 64)   256       \n",
      "_________________________________________________________________\n",
      "time_distributed_2 (TimeDist (None, 8, 70, 105, 64)    0         \n",
      "_________________________________________________________________\n",
      "time_distributed_3 (TimeDist (None, 8, 70, 105, 128)   73856     \n",
      "_________________________________________________________________\n",
      "time_distributed_4 (TimeDist (None, 8, 70, 105, 128)   512       \n",
      "_________________________________________________________________\n",
      "time_distributed_5 (TimeDist (None, 8, 35, 53, 128)    0         \n",
      "_________________________________________________________________\n",
      "time_distributed_6 (TimeDist (None, 8, 35, 53, 256)    295168    \n",
      "_________________________________________________________________\n",
      "time_distributed_7 (TimeDist (None, 8, 35, 53, 256)    590080    \n",
      "_________________________________________________________________\n",
      "time_distributed_8 (TimeDist (None, 8, 35, 53, 256)    1024      \n",
      "_________________________________________________________________\n",
      "time_distributed_9 (TimeDist (None, 8, 18, 27, 256)    0         \n",
      "_________________________________________________________________\n",
      "time_distributed_10 (TimeDis (None, 8, 18, 27, 512)    1180160   \n",
      "_________________________________________________________________\n",
      "time_distributed_11 (TimeDis (None, 8, 18, 27, 512)    2359808   \n",
      "_________________________________________________________________\n",
      "time_distributed_12 (TimeDis (None, 8, 18, 27, 512)    2359808   \n",
      "_________________________________________________________________\n",
      "time_distributed_13 (TimeDis (None, 8, 18, 27, 512)    2048      \n",
      "_________________________________________________________________\n",
      "time_distributed_14 (TimeDis (None, 8, 9, 14, 512)     0         \n",
      "_________________________________________________________________\n",
      "time_distributed_15 (TimeDis (None, 8, 64512)          0         \n",
      "_________________________________________________________________\n",
      "lstm (LSTM)                  (None, 8, 32)             8261760   \n",
      "_________________________________________________________________\n",
      "lstm_1 (LSTM)                (None, 32)                8320      \n",
      "_________________________________________________________________\n",
      "dense (Dense)                (None, 1024)              33792     \n",
      "_________________________________________________________________\n",
      "batch_normalization_4 (Batch (None, 1024)              4096      \n",
      "_________________________________________________________________\n",
      "dropout (Dropout)            (None, 1024)              0         \n",
      "_________________________________________________________________\n",
      "dense_1 (Dense)              (None, 512)               524800    \n",
      "_________________________________________________________________\n",
      "dropout_1 (Dropout)          (None, 512)               0         \n",
      "_________________________________________________________________\n",
      "dense_2 (Dense)              (None, 64)                32832     \n",
      "_________________________________________________________________\n",
      "dropout_2 (Dropout)          (None, 64)                0         \n",
      "_________________________________________________________________\n",
      "dense_3 (Dense)              (None, 4)                 260       \n",
      "=================================================================\n",
      "Total params: 15,730,372\n",
      "Trainable params: 15,726,404\n",
      "Non-trainable params: 3,968\n",
      "_________________________________________________________________\n",
      "\n",
      "--Network created successfully--\n",
      "\n",
      "\n",
      "--Weights loaded successfully--\n",
      "\n"
     ]
    }
   ],
   "source": [
    "# *********** 1.A  TEST   ************\n",
    "# ALCOHOL\n",
    "alcohol_dir = os.path.join(dataset_dir, 'Test_alcohol')\n",
    "alcohol_dataset = make_dataset(alcohol_dir)\n",
    "\n",
    "# DRUG\n",
    "drug_dir = os.path.join(dataset_dir, 'Test_drug')\n",
    "drug_dataset = make_dataset(drug_dir)\n",
    "# SLEEP\n",
    "sleep_dir = os.path.join(dataset_dir, 'Test_sleep')\n",
    "sleep_dataset = make_dataset(sleep_dir)\n",
    "# CONTROL\n",
    "control_dir = os.path.join(dataset_dir, 'Test_control')\n",
    "control_dataset = make_dataset(control_dir)\n",
    "\n",
    "#Listado de carpetas que hay\n",
    "def carpetas (dataset):\n",
    "    folders = []\n",
    "    for archivo in dataset:\n",
    "        folders.append(get_folder(archivo))\n",
    "    folders = np.unique(folders)\n",
    "    return(folders)\n",
    "\n",
    "# *********** 2.A TEST FOLDERS ***********\n",
    "folders_alcohol = carpetas((alcohol_dataset))\n",
    "folders_drug = carpetas(drug_dataset)\n",
    "folders_sleep = carpetas(sleep_dataset)\n",
    "folders_control = carpetas(control_dataset)\n",
    "\n",
    "# ********* Create model ***********\n",
    "model_tools = build_tools()\n",
    "network = model_tools.create_network(model_name)\n",
    "print('\\n--Network created successfully--\\n')\n",
    "\n",
    "#Load weights \n",
    "network.load_weights(checkpoint_path.format(epoch=test_epoch))\n",
    "print('\\n--Weights loaded successfully--\\n')"
   ]
  },
  {
   "cell_type": "code",
   "execution_count": 5,
   "id": "765c006a",
   "metadata": {},
   "outputs": [],
   "source": [
    "# ****** FUNCIONES  *******\n",
    "def inference (network, folder, clase = [0,1], tipo = 0, nsequences = None):\n",
    "    predictions = []\n",
    "    clase = np.array(clase, dtype='uint8')\n",
    "    tipo = np.array(tipo, dtype='uint8')\n",
    "    for register in tqdm(folder, desc = \"Making predictions: \"):\n",
    "        sequence_dataset = make_dataset(str(register))\n",
    "        sequence_dataset = sort_names(sequence_dataset)\n",
    "        #print('SHAPE DE SEQUENCE DATASET',  np.shape(sequence_dataset))\n",
    "\n",
    "        if nsequences == 'all':\n",
    "            nsequences = len(sequence_dataset) - 8\n",
    "        else:\n",
    "            nsequences = min([nsequences, len(sequence_dataset) - 8])\n",
    "\n",
    "        for i in range(nsequences):\n",
    "            seq_tensor = []\n",
    "            ind_1 = i\n",
    "            ind_2 = ind_1+8\n",
    "            for j in range(ind_1, ind_2):\n",
    "\n",
    "                img = Image.open(sequence_dataset[j]).convert('RGB').resize((210,140))\n",
    "                #Debería ser un (140,210,3)\n",
    "                img = np.array(img)\n",
    "                # adquiere el (8,140,210,3)\n",
    "                seq_tensor.append(img)\n",
    "            \n",
    "            np_image_seqs = np.reshape(np.array(seq_tensor)/255,(1,time,height,width,color_channels))\n",
    "            r = network.predict(np_image_seqs)\n",
    "            r = np.squeeze(r, 0)\n",
    "\n",
    "            data = [r, clase, tipo]\n",
    "            predictions.append(data)\n",
    "            #print('PREDICTIONS',predictions)\n",
    "            print('SHAPE DE SEQUENCE DATASET',  np.shape(sequence_dataset))\n",
    "            print('TAMAÑO DE PREDICTIONS', len(predictions))\n",
    "            print('SHAPE DE PREDICTIONS', np.shape(predictions))\n",
    "    # tamaño final (N,8,140,210,3)\n",
    "    return(predictions)\n"
   ]
  },
  {
   "cell_type": "code",
   "execution_count": 7,
   "id": "ce5179bd",
   "metadata": {},
   "outputs": [
    {
     "name": "stdout",
     "output_type": "stream",
     "text": [
      "Alcohol:\n"
     ]
    },
    {
     "name": "stderr",
     "output_type": "stream",
     "text": [
      "Making predictions:   4%|▍         | 3/72 [00:00<00:03, 22.30it/s]"
     ]
    },
    {
     "name": "stdout",
     "output_type": "stream",
     "text": [
      "SHAPE DE SEQUENCE DATASET (149,)\n",
      "TAMAÑO DE PREDICTIONS 1\n",
      "SHAPE DE PREDICTIONS (1, 3)\n",
      "SHAPE DE SEQUENCE DATASET (101,)\n",
      "TAMAÑO DE PREDICTIONS 2\n",
      "SHAPE DE PREDICTIONS (2, 3)\n",
      "SHAPE DE SEQUENCE DATASET (150,)\n",
      "TAMAÑO DE PREDICTIONS 3\n",
      "SHAPE DE PREDICTIONS (3, 3)\n",
      "SHAPE DE SEQUENCE DATASET (119,)\n",
      "TAMAÑO DE PREDICTIONS 4\n",
      "SHAPE DE PREDICTIONS (4, 3)\n",
      "SHAPE DE SEQUENCE DATASET (150,)\n",
      "TAMAÑO DE PREDICTIONS 5\n",
      "SHAPE DE PREDICTIONS (5, 3)\n"
     ]
    },
    {
     "name": "stderr",
     "output_type": "stream",
     "text": [
      "Making predictions: 100%|██████████| 72/72 [00:00<00:00, 180.61it/s]"
     ]
    },
    {
     "name": "stdout",
     "output_type": "stream",
     "text": [
      "SHAPE DE SEQUENCE DATASET (118,)\n",
      "TAMAÑO DE PREDICTIONS 6\n",
      "SHAPE DE PREDICTIONS (6, 3)\n",
      "SHAPE DE SEQUENCE DATASET (129,)\n",
      "TAMAÑO DE PREDICTIONS 7\n",
      "SHAPE DE PREDICTIONS (7, 3)\n",
      "SHAPE DE SEQUENCE DATASET (107,)\n",
      "TAMAÑO DE PREDICTIONS 8\n",
      "SHAPE DE PREDICTIONS (8, 3)\n",
      "SHAPE DE SEQUENCE DATASET (150,)\n",
      "TAMAÑO DE PREDICTIONS 9\n",
      "SHAPE DE PREDICTIONS (9, 3)\n"
     ]
    },
    {
     "name": "stderr",
     "output_type": "stream",
     "text": [
      "\n"
     ]
    }
   ],
   "source": [
    "# *************** 4.A  TEST FINAL **************\n",
    "# No control\n",
    "print('Alcohol:')\n",
    "if data_type == 'iris_2classes':\n",
    "    clase = [1,0]\n",
    "    tipo = 0\n",
    "if data_type == 'iris_4classes':\n",
    "    clase = [1,0,0,0]\n",
    "    tipo = 0\n",
    "\n",
    "\n",
    "pred_alcohol = inference (network, folders_alcohol, clase = clase, tipo = tipo, nsequences = nsequences)\n"
   ]
  },
  {
   "cell_type": "code",
   "execution_count": 13,
   "id": "e2703776",
   "metadata": {},
   "outputs": [],
   "source": [
    "folder = folders_alcohol\n",
    "\n",
    "# ****** FUNCIONES  *******\n",
    "\n",
    "predictions = []\n",
    "clase = np.array(clase, dtype='uint8')\n",
    "tipo = np.array(tipo, dtype='uint8')\n",
    "#for register in folder:\n",
    "register = folder[0]\n",
    "sequence_dataset = make_dataset(str(register))\n",
    "sequence_dataset = sort_names(sequence_dataset)\n",
    "#print('SHAPE DE SEQUENCE DATASET',  np.shape(sequence_dataset))\n",
    "\n",
    "if nsequences == 'all':\n",
    "    nsequences = len(sequence_dataset) - 8\n",
    "else:\n",
    "    nsequences = min([nsequences, len(sequence_dataset) - 8])\n",
    "\n",
    "for i in range(nsequences):\n",
    "    seq_tensor = []\n",
    "    ind_1 = i\n",
    "    ind_2 = ind_1+8\n",
    "    for j in range(ind_1, ind_2):\n",
    "\n",
    "        img = Image.open(sequence_dataset[j]).convert('RGB').resize((210,140))\n",
    "        #Debería ser un (140,210,3)\n",
    "        img = np.array(img)\n",
    "        # adquiere el (8,140,210,3)\n",
    "        seq_tensor.append(img)\n",
    "\n",
    "    np_image_seqs = np.reshape(np.array(seq_tensor)/255,(1,time,height,width,color_channels))\n",
    "    r = network.predict(np_image_seqs)\n",
    "    r = np.squeeze(r, 0)\n",
    "\n",
    "    data = [r, clase, tipo]\n",
    "    predictions.append(data)\n",
    "    #print('PREDICTIONS',predictions)\n",
    "    print('SHAPE DE SEQUENCE DATASET',  np.shape(sequence_dataset))\n",
    "    print('TAMAÑO DE PREDICTIONS', len(predictions))\n",
    "    print('SHAPE DE PREDICTIONS', np.shape(predictions))\n",
    "# tamaño final (N,8,140,210,3)\n",
    "\n"
   ]
  },
  {
   "cell_type": "code",
   "execution_count": 41,
   "id": "0cbe8bf1",
   "metadata": {},
   "outputs": [],
   "source": [
    "#Función para que imágenes salgan en orden correcto\n",
    "def sort_names(image_names):\n",
    "    # Find Indices\n",
    "    idx1 = [int(name.split('_')[-1].split('.')[0]) for name in image_names]\n",
    "    idx2 = [int(name.split('_')[-2].split('.')[0]) for name in image_names]\n",
    "    \n",
    "    unique_idx1 = np.unique(idx1)\n",
    "    unique_idx2 = np.unique(idx2)\n",
    "    \n",
    "    if len(unique_idx1) > len(unique_idx2):\n",
    "        idx = idx1\n",
    "    else:\n",
    "        idx = idx2\n",
    "\n",
    "    # Create empty list to store the sorted names\n",
    "    sorted_names = [None]*(max(idx)+1)\n",
    "\n",
    "    # Sort names\n",
    "    for i, j in enumerate(idx):\n",
    "        sorted_names[j] = image_names[i]\n",
    "\n",
    "    # Eliminate empty elements\n",
    "    sorted_names = [name for name in sorted_names if name is not None]\n",
    "\n",
    "    return sorted_names"
   ]
  },
  {
   "cell_type": "code",
   "execution_count": 42,
   "id": "4cebe57d",
   "metadata": {
    "scrolled": true
   },
   "outputs": [
    {
     "data": {
      "text/plain": [
       "['/home/pame/PROYECT1/Vehicle_Collision-master/files/TEST/Test_alcohol/30_1336/B_57_0_2020.jpg',\n",
       " '/home/pame/PROYECT1/Vehicle_Collision-master/files/TEST/Test_alcohol/30_1336/B_57_1_2020.jpg',\n",
       " '/home/pame/PROYECT1/Vehicle_Collision-master/files/TEST/Test_alcohol/30_1336/B_57_2_2020.jpg',\n",
       " '/home/pame/PROYECT1/Vehicle_Collision-master/files/TEST/Test_alcohol/30_1336/B_57_3_2020.jpg',\n",
       " '/home/pame/PROYECT1/Vehicle_Collision-master/files/TEST/Test_alcohol/30_1336/B_57_4_2020.jpg',\n",
       " '/home/pame/PROYECT1/Vehicle_Collision-master/files/TEST/Test_alcohol/30_1336/B_57_5_2020.jpg',\n",
       " '/home/pame/PROYECT1/Vehicle_Collision-master/files/TEST/Test_alcohol/30_1336/B_57_6_2020.jpg',\n",
       " '/home/pame/PROYECT1/Vehicle_Collision-master/files/TEST/Test_alcohol/30_1336/B_57_7_2020.jpg',\n",
       " '/home/pame/PROYECT1/Vehicle_Collision-master/files/TEST/Test_alcohol/30_1336/B_57_8_2020.jpg',\n",
       " '/home/pame/PROYECT1/Vehicle_Collision-master/files/TEST/Test_alcohol/30_1336/B_57_9_2020.jpg',\n",
       " '/home/pame/PROYECT1/Vehicle_Collision-master/files/TEST/Test_alcohol/30_1336/B_57_10_2020.jpg',\n",
       " '/home/pame/PROYECT1/Vehicle_Collision-master/files/TEST/Test_alcohol/30_1336/B_57_11_2020.jpg',\n",
       " '/home/pame/PROYECT1/Vehicle_Collision-master/files/TEST/Test_alcohol/30_1336/B_57_12_2020.jpg',\n",
       " '/home/pame/PROYECT1/Vehicle_Collision-master/files/TEST/Test_alcohol/30_1336/B_57_13_2020.jpg',\n",
       " '/home/pame/PROYECT1/Vehicle_Collision-master/files/TEST/Test_alcohol/30_1336/B_57_14_2020.jpg',\n",
       " '/home/pame/PROYECT1/Vehicle_Collision-master/files/TEST/Test_alcohol/30_1336/B_57_15_2020.jpg',\n",
       " '/home/pame/PROYECT1/Vehicle_Collision-master/files/TEST/Test_alcohol/30_1336/B_57_16_2020.jpg',\n",
       " '/home/pame/PROYECT1/Vehicle_Collision-master/files/TEST/Test_alcohol/30_1336/B_57_17_2020.jpg',\n",
       " '/home/pame/PROYECT1/Vehicle_Collision-master/files/TEST/Test_alcohol/30_1336/B_57_18_2020.jpg',\n",
       " '/home/pame/PROYECT1/Vehicle_Collision-master/files/TEST/Test_alcohol/30_1336/B_57_19_2020.jpg',\n",
       " '/home/pame/PROYECT1/Vehicle_Collision-master/files/TEST/Test_alcohol/30_1336/B_57_20_2020.jpg',\n",
       " '/home/pame/PROYECT1/Vehicle_Collision-master/files/TEST/Test_alcohol/30_1336/B_57_21_2020.jpg',\n",
       " '/home/pame/PROYECT1/Vehicle_Collision-master/files/TEST/Test_alcohol/30_1336/B_57_22_2020.jpg',\n",
       " '/home/pame/PROYECT1/Vehicle_Collision-master/files/TEST/Test_alcohol/30_1336/B_57_23_2020.jpg',\n",
       " '/home/pame/PROYECT1/Vehicle_Collision-master/files/TEST/Test_alcohol/30_1336/B_57_24_2020.jpg',\n",
       " '/home/pame/PROYECT1/Vehicle_Collision-master/files/TEST/Test_alcohol/30_1336/B_57_25_2020.jpg',\n",
       " '/home/pame/PROYECT1/Vehicle_Collision-master/files/TEST/Test_alcohol/30_1336/B_57_26_2020.jpg',\n",
       " '/home/pame/PROYECT1/Vehicle_Collision-master/files/TEST/Test_alcohol/30_1336/B_57_27_2020.jpg',\n",
       " '/home/pame/PROYECT1/Vehicle_Collision-master/files/TEST/Test_alcohol/30_1336/B_57_28_2020.jpg',\n",
       " '/home/pame/PROYECT1/Vehicle_Collision-master/files/TEST/Test_alcohol/30_1336/B_57_29_2020.jpg',\n",
       " '/home/pame/PROYECT1/Vehicle_Collision-master/files/TEST/Test_alcohol/30_1336/B_57_30_2020.jpg',\n",
       " '/home/pame/PROYECT1/Vehicle_Collision-master/files/TEST/Test_alcohol/30_1336/B_57_31_2020.jpg',\n",
       " '/home/pame/PROYECT1/Vehicle_Collision-master/files/TEST/Test_alcohol/30_1336/B_57_32_2020.jpg',\n",
       " '/home/pame/PROYECT1/Vehicle_Collision-master/files/TEST/Test_alcohol/30_1336/B_57_33_2020.jpg',\n",
       " '/home/pame/PROYECT1/Vehicle_Collision-master/files/TEST/Test_alcohol/30_1336/B_57_34_2020.jpg',\n",
       " '/home/pame/PROYECT1/Vehicle_Collision-master/files/TEST/Test_alcohol/30_1336/B_57_35_2020.jpg',\n",
       " '/home/pame/PROYECT1/Vehicle_Collision-master/files/TEST/Test_alcohol/30_1336/B_57_36_2020.jpg',\n",
       " '/home/pame/PROYECT1/Vehicle_Collision-master/files/TEST/Test_alcohol/30_1336/B_57_37_2020.jpg',\n",
       " '/home/pame/PROYECT1/Vehicle_Collision-master/files/TEST/Test_alcohol/30_1336/B_57_38_2020.jpg',\n",
       " '/home/pame/PROYECT1/Vehicle_Collision-master/files/TEST/Test_alcohol/30_1336/B_57_39_2020.jpg',\n",
       " '/home/pame/PROYECT1/Vehicle_Collision-master/files/TEST/Test_alcohol/30_1336/B_57_40_2020.jpg',\n",
       " '/home/pame/PROYECT1/Vehicle_Collision-master/files/TEST/Test_alcohol/30_1336/B_57_41_2020.jpg',\n",
       " '/home/pame/PROYECT1/Vehicle_Collision-master/files/TEST/Test_alcohol/30_1336/B_57_42_2020.jpg',\n",
       " '/home/pame/PROYECT1/Vehicle_Collision-master/files/TEST/Test_alcohol/30_1336/B_57_43_2020.jpg',\n",
       " '/home/pame/PROYECT1/Vehicle_Collision-master/files/TEST/Test_alcohol/30_1336/B_57_44_2020.jpg',\n",
       " '/home/pame/PROYECT1/Vehicle_Collision-master/files/TEST/Test_alcohol/30_1336/B_57_45_2020.jpg',\n",
       " '/home/pame/PROYECT1/Vehicle_Collision-master/files/TEST/Test_alcohol/30_1336/B_57_46_2020.jpg',\n",
       " '/home/pame/PROYECT1/Vehicle_Collision-master/files/TEST/Test_alcohol/30_1336/B_57_47_2020.jpg',\n",
       " '/home/pame/PROYECT1/Vehicle_Collision-master/files/TEST/Test_alcohol/30_1336/B_57_48_2020.jpg',\n",
       " '/home/pame/PROYECT1/Vehicle_Collision-master/files/TEST/Test_alcohol/30_1336/B_57_49_2020.jpg',\n",
       " '/home/pame/PROYECT1/Vehicle_Collision-master/files/TEST/Test_alcohol/30_1336/B_57_50_2020.jpg',\n",
       " '/home/pame/PROYECT1/Vehicle_Collision-master/files/TEST/Test_alcohol/30_1336/B_57_51_2020.jpg',\n",
       " '/home/pame/PROYECT1/Vehicle_Collision-master/files/TEST/Test_alcohol/30_1336/B_57_52_2020.jpg',\n",
       " '/home/pame/PROYECT1/Vehicle_Collision-master/files/TEST/Test_alcohol/30_1336/B_57_53_2020.jpg',\n",
       " '/home/pame/PROYECT1/Vehicle_Collision-master/files/TEST/Test_alcohol/30_1336/B_57_54_2020.jpg',\n",
       " '/home/pame/PROYECT1/Vehicle_Collision-master/files/TEST/Test_alcohol/30_1336/B_57_55_2020.jpg',\n",
       " '/home/pame/PROYECT1/Vehicle_Collision-master/files/TEST/Test_alcohol/30_1336/B_57_56_2020.jpg',\n",
       " '/home/pame/PROYECT1/Vehicle_Collision-master/files/TEST/Test_alcohol/30_1336/B_57_57_2020.jpg',\n",
       " '/home/pame/PROYECT1/Vehicle_Collision-master/files/TEST/Test_alcohol/30_1336/B_57_58_2020.jpg',\n",
       " '/home/pame/PROYECT1/Vehicle_Collision-master/files/TEST/Test_alcohol/30_1336/B_57_59_2020.jpg',\n",
       " '/home/pame/PROYECT1/Vehicle_Collision-master/files/TEST/Test_alcohol/30_1336/B_57_60_2020.jpg',\n",
       " '/home/pame/PROYECT1/Vehicle_Collision-master/files/TEST/Test_alcohol/30_1336/B_57_61_2020.jpg',\n",
       " '/home/pame/PROYECT1/Vehicle_Collision-master/files/TEST/Test_alcohol/30_1336/B_57_62_2020.jpg',\n",
       " '/home/pame/PROYECT1/Vehicle_Collision-master/files/TEST/Test_alcohol/30_1336/B_57_63_2020.jpg',\n",
       " '/home/pame/PROYECT1/Vehicle_Collision-master/files/TEST/Test_alcohol/30_1336/B_57_64_2020.jpg',\n",
       " '/home/pame/PROYECT1/Vehicle_Collision-master/files/TEST/Test_alcohol/30_1336/B_57_65_2020.jpg',\n",
       " '/home/pame/PROYECT1/Vehicle_Collision-master/files/TEST/Test_alcohol/30_1336/B_57_66_2020.jpg',\n",
       " '/home/pame/PROYECT1/Vehicle_Collision-master/files/TEST/Test_alcohol/30_1336/B_57_67_2020.jpg',\n",
       " '/home/pame/PROYECT1/Vehicle_Collision-master/files/TEST/Test_alcohol/30_1336/B_57_68_2020.jpg',\n",
       " '/home/pame/PROYECT1/Vehicle_Collision-master/files/TEST/Test_alcohol/30_1336/B_57_69_2020.jpg',\n",
       " '/home/pame/PROYECT1/Vehicle_Collision-master/files/TEST/Test_alcohol/30_1336/B_57_70_2020.jpg',\n",
       " '/home/pame/PROYECT1/Vehicle_Collision-master/files/TEST/Test_alcohol/30_1336/B_57_71_2020.jpg',\n",
       " '/home/pame/PROYECT1/Vehicle_Collision-master/files/TEST/Test_alcohol/30_1336/B_57_72_2020.jpg',\n",
       " '/home/pame/PROYECT1/Vehicle_Collision-master/files/TEST/Test_alcohol/30_1336/B_57_73_2020.jpg',\n",
       " '/home/pame/PROYECT1/Vehicle_Collision-master/files/TEST/Test_alcohol/30_1336/B_57_74_2020.jpg',\n",
       " '/home/pame/PROYECT1/Vehicle_Collision-master/files/TEST/Test_alcohol/30_1336/B_57_75_2020.jpg',\n",
       " '/home/pame/PROYECT1/Vehicle_Collision-master/files/TEST/Test_alcohol/30_1336/B_57_76_2020.jpg',\n",
       " '/home/pame/PROYECT1/Vehicle_Collision-master/files/TEST/Test_alcohol/30_1336/B_57_77_2020.jpg',\n",
       " '/home/pame/PROYECT1/Vehicle_Collision-master/files/TEST/Test_alcohol/30_1336/B_57_78_2020.jpg',\n",
       " '/home/pame/PROYECT1/Vehicle_Collision-master/files/TEST/Test_alcohol/30_1336/B_57_79_2020.jpg',\n",
       " '/home/pame/PROYECT1/Vehicle_Collision-master/files/TEST/Test_alcohol/30_1336/B_57_80_2020.jpg',\n",
       " '/home/pame/PROYECT1/Vehicle_Collision-master/files/TEST/Test_alcohol/30_1336/B_57_81_2020.jpg',\n",
       " '/home/pame/PROYECT1/Vehicle_Collision-master/files/TEST/Test_alcohol/30_1336/B_57_82_2020.jpg',\n",
       " '/home/pame/PROYECT1/Vehicle_Collision-master/files/TEST/Test_alcohol/30_1336/B_57_83_2020.jpg',\n",
       " '/home/pame/PROYECT1/Vehicle_Collision-master/files/TEST/Test_alcohol/30_1336/B_57_84_2020.jpg',\n",
       " '/home/pame/PROYECT1/Vehicle_Collision-master/files/TEST/Test_alcohol/30_1336/B_57_85_2020.jpg',\n",
       " '/home/pame/PROYECT1/Vehicle_Collision-master/files/TEST/Test_alcohol/30_1336/B_57_86_2020.jpg',\n",
       " '/home/pame/PROYECT1/Vehicle_Collision-master/files/TEST/Test_alcohol/30_1336/B_57_87_2020.jpg',\n",
       " '/home/pame/PROYECT1/Vehicle_Collision-master/files/TEST/Test_alcohol/30_1336/B_57_88_2020.jpg',\n",
       " '/home/pame/PROYECT1/Vehicle_Collision-master/files/TEST/Test_alcohol/30_1336/B_57_89_2020.jpg',\n",
       " '/home/pame/PROYECT1/Vehicle_Collision-master/files/TEST/Test_alcohol/30_1336/B_57_90_2020.jpg',\n",
       " '/home/pame/PROYECT1/Vehicle_Collision-master/files/TEST/Test_alcohol/30_1336/B_57_91_2020.jpg',\n",
       " '/home/pame/PROYECT1/Vehicle_Collision-master/files/TEST/Test_alcohol/30_1336/B_57_92_2020.jpg',\n",
       " '/home/pame/PROYECT1/Vehicle_Collision-master/files/TEST/Test_alcohol/30_1336/B_57_93_2020.jpg',\n",
       " '/home/pame/PROYECT1/Vehicle_Collision-master/files/TEST/Test_alcohol/30_1336/B_57_94_2020.jpg',\n",
       " '/home/pame/PROYECT1/Vehicle_Collision-master/files/TEST/Test_alcohol/30_1336/B_57_95_2020.jpg',\n",
       " '/home/pame/PROYECT1/Vehicle_Collision-master/files/TEST/Test_alcohol/30_1336/B_57_96_2020.jpg',\n",
       " '/home/pame/PROYECT1/Vehicle_Collision-master/files/TEST/Test_alcohol/30_1336/B_57_97_2020.jpg',\n",
       " '/home/pame/PROYECT1/Vehicle_Collision-master/files/TEST/Test_alcohol/30_1336/B_57_98_2020.jpg',\n",
       " '/home/pame/PROYECT1/Vehicle_Collision-master/files/TEST/Test_alcohol/30_1336/B_57_99_2020.jpg',\n",
       " '/home/pame/PROYECT1/Vehicle_Collision-master/files/TEST/Test_alcohol/30_1336/B_57_100_2020.jpg',\n",
       " '/home/pame/PROYECT1/Vehicle_Collision-master/files/TEST/Test_alcohol/30_1336/B_57_101_2020.jpg',\n",
       " '/home/pame/PROYECT1/Vehicle_Collision-master/files/TEST/Test_alcohol/30_1336/B_57_102_2020.jpg',\n",
       " '/home/pame/PROYECT1/Vehicle_Collision-master/files/TEST/Test_alcohol/30_1336/B_57_103_2020.jpg',\n",
       " '/home/pame/PROYECT1/Vehicle_Collision-master/files/TEST/Test_alcohol/30_1336/B_57_104_2020.jpg',\n",
       " '/home/pame/PROYECT1/Vehicle_Collision-master/files/TEST/Test_alcohol/30_1336/B_57_105_2020.jpg',\n",
       " '/home/pame/PROYECT1/Vehicle_Collision-master/files/TEST/Test_alcohol/30_1336/B_57_106_2020.jpg',\n",
       " '/home/pame/PROYECT1/Vehicle_Collision-master/files/TEST/Test_alcohol/30_1336/B_57_107_2020.jpg',\n",
       " '/home/pame/PROYECT1/Vehicle_Collision-master/files/TEST/Test_alcohol/30_1336/B_57_108_2020.jpg',\n",
       " '/home/pame/PROYECT1/Vehicle_Collision-master/files/TEST/Test_alcohol/30_1336/B_57_109_2020.jpg',\n",
       " '/home/pame/PROYECT1/Vehicle_Collision-master/files/TEST/Test_alcohol/30_1336/B_57_110_2020.jpg',\n",
       " '/home/pame/PROYECT1/Vehicle_Collision-master/files/TEST/Test_alcohol/30_1336/B_57_111_2020.jpg',\n",
       " '/home/pame/PROYECT1/Vehicle_Collision-master/files/TEST/Test_alcohol/30_1336/B_57_112_2020.jpg',\n",
       " '/home/pame/PROYECT1/Vehicle_Collision-master/files/TEST/Test_alcohol/30_1336/B_57_113_2020.jpg',\n",
       " '/home/pame/PROYECT1/Vehicle_Collision-master/files/TEST/Test_alcohol/30_1336/B_57_114_2020.jpg',\n",
       " '/home/pame/PROYECT1/Vehicle_Collision-master/files/TEST/Test_alcohol/30_1336/B_57_115_2020.jpg',\n",
       " '/home/pame/PROYECT1/Vehicle_Collision-master/files/TEST/Test_alcohol/30_1336/B_57_116_2020.jpg',\n",
       " '/home/pame/PROYECT1/Vehicle_Collision-master/files/TEST/Test_alcohol/30_1336/B_57_117_2020.jpg',\n",
       " '/home/pame/PROYECT1/Vehicle_Collision-master/files/TEST/Test_alcohol/30_1336/B_57_118_2020.jpg',\n",
       " '/home/pame/PROYECT1/Vehicle_Collision-master/files/TEST/Test_alcohol/30_1336/B_57_119_2020.jpg',\n",
       " '/home/pame/PROYECT1/Vehicle_Collision-master/files/TEST/Test_alcohol/30_1336/B_57_120_2020.jpg',\n",
       " '/home/pame/PROYECT1/Vehicle_Collision-master/files/TEST/Test_alcohol/30_1336/B_57_121_2020.jpg',\n",
       " '/home/pame/PROYECT1/Vehicle_Collision-master/files/TEST/Test_alcohol/30_1336/B_57_122_2020.jpg',\n",
       " '/home/pame/PROYECT1/Vehicle_Collision-master/files/TEST/Test_alcohol/30_1336/B_57_123_2020.jpg',\n",
       " '/home/pame/PROYECT1/Vehicle_Collision-master/files/TEST/Test_alcohol/30_1336/B_57_124_2020.jpg',\n",
       " '/home/pame/PROYECT1/Vehicle_Collision-master/files/TEST/Test_alcohol/30_1336/B_57_125_2020.jpg',\n",
       " '/home/pame/PROYECT1/Vehicle_Collision-master/files/TEST/Test_alcohol/30_1336/B_57_126_2020.jpg',\n",
       " '/home/pame/PROYECT1/Vehicle_Collision-master/files/TEST/Test_alcohol/30_1336/B_57_127_2020.jpg',\n",
       " '/home/pame/PROYECT1/Vehicle_Collision-master/files/TEST/Test_alcohol/30_1336/B_57_128_2020.jpg',\n",
       " '/home/pame/PROYECT1/Vehicle_Collision-master/files/TEST/Test_alcohol/30_1336/B_57_129_2020.jpg',\n",
       " '/home/pame/PROYECT1/Vehicle_Collision-master/files/TEST/Test_alcohol/30_1336/B_57_130_2020.jpg',\n",
       " '/home/pame/PROYECT1/Vehicle_Collision-master/files/TEST/Test_alcohol/30_1336/B_57_131_2020.jpg',\n",
       " '/home/pame/PROYECT1/Vehicle_Collision-master/files/TEST/Test_alcohol/30_1336/B_57_132_2020.jpg',\n",
       " '/home/pame/PROYECT1/Vehicle_Collision-master/files/TEST/Test_alcohol/30_1336/B_57_133_2020.jpg',\n",
       " '/home/pame/PROYECT1/Vehicle_Collision-master/files/TEST/Test_alcohol/30_1336/B_57_134_2020.jpg',\n",
       " '/home/pame/PROYECT1/Vehicle_Collision-master/files/TEST/Test_alcohol/30_1336/B_57_135_2020.jpg',\n",
       " '/home/pame/PROYECT1/Vehicle_Collision-master/files/TEST/Test_alcohol/30_1336/B_57_136_2020.jpg',\n",
       " '/home/pame/PROYECT1/Vehicle_Collision-master/files/TEST/Test_alcohol/30_1336/B_57_137_2020.jpg',\n",
       " '/home/pame/PROYECT1/Vehicle_Collision-master/files/TEST/Test_alcohol/30_1336/B_57_138_2020.jpg',\n",
       " '/home/pame/PROYECT1/Vehicle_Collision-master/files/TEST/Test_alcohol/30_1336/B_57_139_2020.jpg',\n",
       " '/home/pame/PROYECT1/Vehicle_Collision-master/files/TEST/Test_alcohol/30_1336/B_57_140_2020.jpg',\n",
       " '/home/pame/PROYECT1/Vehicle_Collision-master/files/TEST/Test_alcohol/30_1336/B_57_141_2020.jpg',\n",
       " '/home/pame/PROYECT1/Vehicle_Collision-master/files/TEST/Test_alcohol/30_1336/B_57_142_2020.jpg',\n",
       " '/home/pame/PROYECT1/Vehicle_Collision-master/files/TEST/Test_alcohol/30_1336/B_57_143_2020.jpg',\n",
       " '/home/pame/PROYECT1/Vehicle_Collision-master/files/TEST/Test_alcohol/30_1336/B_57_144_2020.jpg',\n",
       " '/home/pame/PROYECT1/Vehicle_Collision-master/files/TEST/Test_alcohol/30_1336/B_57_145_2020.jpg',\n",
       " '/home/pame/PROYECT1/Vehicle_Collision-master/files/TEST/Test_alcohol/30_1336/B_57_146_2020.jpg',\n",
       " '/home/pame/PROYECT1/Vehicle_Collision-master/files/TEST/Test_alcohol/30_1336/B_57_147_2020.jpg',\n",
       " '/home/pame/PROYECT1/Vehicle_Collision-master/files/TEST/Test_alcohol/30_1336/B_57_148_2020.jpg',\n",
       " '/home/pame/PROYECT1/Vehicle_Collision-master/files/TEST/Test_alcohol/30_1336/B_57_149_2020.jpg']"
      ]
     },
     "execution_count": 42,
     "metadata": {},
     "output_type": "execute_result"
    }
   ],
   "source": [
    "register = folder[17]\n",
    "sequence_dataset = make_dataset(str(register))\n",
    "\n",
    "sequence_dataset = sort_names(sequence_dataset)\n",
    "sequence_dataset"
   ]
  },
  {
   "cell_type": "code",
   "execution_count": 37,
   "id": "108c8c91",
   "metadata": {},
   "outputs": [
    {
     "data": {
      "text/plain": [
       "['/home/pame/PROYECT1/Vehicle',\n",
       " 'Collision-master/files/TEST/Test',\n",
       " 'alcohol/E',\n",
       " '4',\n",
       " '1',\n",
       " '1',\n",
       " 'R',\n",
       " '5/E',\n",
       " '4',\n",
       " '1',\n",
       " '1',\n",
       " 'R',\n",
       " 'M',\n",
       " 'N',\n",
       " 'N',\n",
       " '1996',\n",
       " '0',\n",
       " '2017.bmp']"
      ]
     },
     "execution_count": 37,
     "metadata": {},
     "output_type": "execute_result"
    }
   ],
   "source": [
    "path = sequence_dataset[0]\n",
    "aux = path.split('_')\n",
    "aux"
   ]
  },
  {
   "cell_type": "code",
   "execution_count": 38,
   "id": "574dfd88",
   "metadata": {},
   "outputs": [
    {
     "data": {
      "text/plain": [
       "'/home/pame/PROYECT1/Vehicle_Collision-master/files/TEST/Test_alcohol/E_4_1_1_R_5/E_4_1_1_R_M_N_N_1996_0_2017.bmp'"
      ]
     },
     "execution_count": 38,
     "metadata": {},
     "output_type": "execute_result"
    }
   ],
   "source": [
    "path"
   ]
  },
  {
   "cell_type": "code",
   "execution_count": 39,
   "id": "753c7296",
   "metadata": {},
   "outputs": [
    {
     "data": {
      "text/plain": [
       "'2017.bmp'"
      ]
     },
     "execution_count": 39,
     "metadata": {},
     "output_type": "execute_result"
    }
   ],
   "source": [
    "aux[-1]"
   ]
  },
  {
   "cell_type": "code",
   "execution_count": 40,
   "id": "6f271296",
   "metadata": {},
   "outputs": [
    {
     "data": {
      "text/plain": [
       "['2017', 'bmp']"
      ]
     },
     "execution_count": 40,
     "metadata": {},
     "output_type": "execute_result"
    }
   ],
   "source": [
    "aux[-1].split('.')"
   ]
  },
  {
   "cell_type": "code",
   "execution_count": null,
   "id": "628e2038",
   "metadata": {},
   "outputs": [],
   "source": []
  }
 ],
 "metadata": {
  "kernelspec": {
   "display_name": "Python 3",
   "language": "python",
   "name": "python3"
  },
  "language_info": {
   "codemirror_mode": {
    "name": "ipython",
    "version": 3
   },
   "file_extension": ".py",
   "mimetype": "text/x-python",
   "name": "python",
   "nbconvert_exporter": "python",
   "pygments_lexer": "ipython3",
   "version": "3.7.11"
  }
 },
 "nbformat": 4,
 "nbformat_minor": 5
}
